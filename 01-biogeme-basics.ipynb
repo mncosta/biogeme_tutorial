{
 "cells": [
  {
   "cell_type": "markdown",
   "metadata": {},
   "source": [
    "# An introduction to Biogeme"
   ]
  },
  {
   "cell_type": "markdown",
   "metadata": {},
   "source": [
    "## Biogeme Basics: Logit Model"
   ]
  },
  {
   "cell_type": "code",
   "execution_count": null,
   "metadata": {},
   "outputs": [],
   "source": [
    "import pandas  as pd\n",
    "import numpy as np\n",
    "import biogeme.database  as db\n",
    "import biogeme.biogeme  as bio\n",
    "import matplotlib.pyplot as plt"
   ]
  },
  {
   "cell_type": "markdown",
   "metadata": {},
   "source": [
    "**Import Swissmetro data**"
   ]
  },
  {
   "cell_type": "code",
   "execution_count": null,
   "metadata": {},
   "outputs": [],
   "source": [
    "pandas = pd.read_csv(\"data/swissmetro.dat\",sep='\\t')\n",
    "database = db.Database(\"data/swissmetro\", pandas)"
   ]
  },
  {
   "cell_type": "markdown",
   "metadata": {},
   "source": [
    "## Let's see what this dataset has"
   ]
  },
  {
   "cell_type": "markdown",
   "metadata": {},
   "source": [
    "* dataset consists of survey data collected on the trains between St. Gallen and Geneva, Switzerland, during March 1998\n",
    "* It is necessary to obtain data from surveys of hypothetical markets/situations, which include the innovation, to assess the impact. \n",
    "* Survey data were collected on rail-based travels, interviewing 470 respondents. Due to data problems, only 441 are used here. A similar method for relevant car trips. A total of 1070 persons filled in the survey completely and were willing to participate in the second SP survey, which was generated using the same approach used for the rail interviews. 750 usable SP surveys were returned, from the license-plate based survey.\n",
    "* Nine stated choice situations were generated for each the respondents, offering three alternatives: rail, Swissmetro and car\n",
    "\n",
    "Bierlaire, M., Axhausen, K. and Abay, G. (2001), The acceptance of modal innovation: The case of Swissmetro, in ‘Proceedings of the Swiss Transport Research Conference’, Ascona, Switzerland."
   ]
  },
  {
   "cell_type": "markdown",
   "metadata": {},
   "source": [
    "![](img/swissmetro_var1.png)"
   ]
  },
  {
   "cell_type": "markdown",
   "metadata": {},
   "source": [
    "![](img/swissmetro_var2.png)"
   ]
  },
  {
   "cell_type": "code",
   "execution_count": null,
   "metadata": {},
   "outputs": [],
   "source": [
    "binwidth = 1\n",
    "data = pandas['PURPOSE']\n",
    "plt.hist(data, bins=np.arange(min(data), max(data) + binwidth+1, binwidth));\n",
    "plt.xticks(np.arange(9)+1, ('Commuter', \n",
    "                      'Shopping', \n",
    "                      'Business', \n",
    "                      'Leisure', \n",
    "                      'Return from work',\n",
    "                      'Return from shopping', \n",
    "                      'Return from business',\n",
    "                      'Return from leisure',\n",
    "                      'Other'));\n",
    "plt.xticks(rotation=90);"
   ]
  },
  {
   "cell_type": "markdown",
   "metadata": {},
   "source": [
    "**Use collumn names as variables**"
    "Before version 3.2.5 `from headers import *` is used. It is then updated in order to comply better with good programming practice in Python."
   ]
  },
  {
   "cell_type": "code",
   "execution_count": null,
   "metadata": {},
   "outputs": [],
   "source": [
    globals().update(database.variables)
   ]
  },
  {
   "cell_type": "markdown",
   "metadata": {},
   "source": [
    "**Exclude some unwanted entries**"
   ]
  },
  {
   "cell_type": "code",
   "execution_count": null,
   "metadata": {},
   "outputs": [],
   "source": [
    "exclude = (( PURPOSE != 1 ) * ( PURPOSE != 3 ) + ( CHOICE == 0 )) > 0\n",
    "\n",
    "database.remove(exclude)"
   ]
  },
  {
   "cell_type": "markdown",
   "metadata": {},
   "source": [
    "**Define some dummy variables**"
   ]
  },
  {
   "cell_type": "code",
   "execution_count": null,
   "metadata": {},
   "outputs": [],
   "source": [
    "SM_COST = SM_CO * ( GA == 0 )\n",
    "TRAIN_COST = TRAIN_CO * ( GA == 0 )\n",
    "\n",
    "CAR_AV_SP = DefineVariable ('CAR_AV_SP', CAR_AV * ( SP !=0 ), database)\n",
    "TRAIN_AV_SP = DefineVariable ('TRAIN_AV_SP', TRAIN_AV * ( SP != 0 ), database)"
   ]
  },
  {
   "cell_type": "markdown",
   "metadata": {},
   "source": [
    "**Rescale some data**"
   ]
  },
  {
   "cell_type": "code",
   "execution_count": null,
   "metadata": {},
   "outputs": [],
   "source": [
    "TRAIN_TT_SCALED   = DefineVariable('TRAIN_TT_SCALED',   TRAIN_TT / 100.0, database)\n",
    "TRAIN_COST_SCALED = DefineVariable('TRAIN_COST_SCALED', TRAIN_COST / 100, database)\n",
    "SM_TT_SCALED      = DefineVariable('SM_TT_SCALED',      SM_TT / 100.0   , database)\n",
    "SM_COST_SCALED    = DefineVariable('SM_COST_SCALED',    SM_COST / 100   , database)\n",
    "CAR_TT_SCALED     = DefineVariable('CAR_TT_SCALED',     CAR_TT / 100    , database)\n",
    "CAR_CO_SCALED     = DefineVariable('CAR_CO_SCALED',     CAR_CO / 100    , database)"
   ]
  },
  {
   "cell_type": "code",
   "execution_count": null,
   "metadata": {},
   "outputs": [],
   "source": [
    "pandas = database.data"
   ]
  },
  {
   "cell_type": "code",
   "execution_count": null,
   "metadata": {},
   "outputs": [],
   "source": [
    "binwidth = 1\n",
    "data = pandas['PURPOSE']\n",
    "plt.hist(data, bins=np.arange(min(data), max(data) + binwidth+1, binwidth));\n",
    "plt.xticks(np.arange(9)+1, ('Commuter', \n",
    "                      'Shopping', \n",
    "                      'Business', \n",
    "                      'Leisure', \n",
    "                      'Return from work',\n",
    "                      'Return from shopping', \n",
    "                      'Return from business',\n",
    "                      'Return from leisure',\n",
    "                      'Other'));\n",
    "plt.xticks(rotation=90);"
   ]
  },
  {
   "cell_type": "code",
   "execution_count": null,
   "metadata": {},
   "outputs": [],
   "source": [
    "binwidth = 1\n",
    "data = pandas['MALE']\n",
    "plt.hist(data, bins=np.arange(min(data), max(data) + binwidth+1, binwidth));\n",
    "plt.xticks(np.arange(2), ('Female', \n",
    "                      'Male'));\n",
    "plt.xticks(rotation=90);"
   ]
  },
  {
   "cell_type": "code",
   "execution_count": null,
   "metadata": {},
   "outputs": [],
   "source": [
    "plt.figure(1)\n",
    "plt.title('Train Availability')\n",
    "data = pandas['TRAIN_AV']\n",
    "plt.hist(data, bins=np.arange(min(data), max(data) + 1+1, 1));\n",
    "plt.xticks(np.arange(2), ('No', \n",
    "                          'Yes'));\n",
    "plt.xticks(rotation=90);\n",
    "\n",
    "plt.figure(2)\n",
    "plt.title('Car Availability')\n",
    "data = pandas['CAR_AV']\n",
    "plt.hist(data, bins=np.arange(min(data), max(data) + 1+1, 1));\n",
    "plt.xticks(np.arange(2), ('No', \n",
    "                          'Yes'));\n",
    "plt.xticks(rotation=90);\n",
    "\n",
    "plt.figure(3)\n",
    "plt.title('Swissmetro Availability')\n",
    "data = pandas['SM_AV']\n",
    "plt.hist(data, bins=np.arange(min(data), max(data) + 1+1, 1));\n",
    "plt.xticks(np.arange(2), ('No', \n",
    "                          'Yes'));\n",
    "plt.xticks(rotation=90);"
   ]
  },
  {
   "cell_type": "code",
   "execution_count": null,
   "metadata": {},
   "outputs": [],
   "source": [
    "pd.set_option('display.max_rows', 500)\n",
    "pd.set_option('display.max_columns', 500)\n",
    "pd.set_option('display.width', 1000)\n",
    "\n",
    "pandas.describe()"
   ]
  },
  {
   "cell_type": "markdown",
   "metadata": {},
   "source": [
    "**Define the utility functions**"
   ]
  },
  {
   "cell_type": "markdown",
   "metadata": {},
   "source": [
    "\\begin{align}\n",
    "V_1 & = \\beta_{Train} + \\beta_{time}X_{Train_{TT}} + \\beta_{cost}X_{Train_{cost}}\\\\\n",
    "V_2 & = \\beta_{SM} +  \\beta_{time}X_{SM_{TT}} + \\beta_{cost}X_{SM_{cost}}\\\\\n",
    "V_3 & = \\beta_{Car} + \\beta_{time}X_{Car_{TT}} + \\beta_{cost}X_{Car_{cost}}\\\\\n",
    "\\end{align}"
   ]
  },
  {
   "cell_type": "markdown",
   "metadata": {},
   "source": [
    "**Create parameters to be estimated**\n",
    "\n",
    "`Beta`\n",
    "1. name of parameter\n",
    "2. default value for the parameter\n",
    "3. lower bound\n",
    "4. upper bound\n",
    "5. flag indicating if parameter is to be estimated"
   ]
  },
  {
   "cell_type": "code",
   "execution_count": null,
   "metadata": {},
   "outputs": [],
   "source": [
    "ASC_CAR = Beta('ASC_CAR',0,None ,None ,0)\n",
    "ASC_TRAIN = Beta('ASC_TRAIN',0,None ,None ,0)\n",
    "ASC_SM = Beta('ASC_SM',0,None ,None ,1)\n",
    "B_TIME = Beta('B_TIME',0,None ,None ,0)\n",
    "B_COST = Beta('B_COST',0,None ,None ,0)"
   ]
  },
  {
   "cell_type": "markdown",
   "metadata": {},
   "source": [
    "**Define the utility functions**"
   ]
  },
  {
   "cell_type": "code",
   "execution_count": null,
   "metadata": {},
   "outputs": [],
   "source": [
    "V1 = ASC_TRAIN + \\\n",
    "     B_TIME * TRAIN_TT_SCALED + \\\n",
    "     B_COST * TRAIN_COST_SCALED\n",
    "V2 = ASC_SM + \\\n",
    "     B_TIME * SM_TT_SCALED + \\\n",
    "     B_COST * SM_COST_SCALED\n",
    "V3 = ASC_CAR + \\\n",
    "     B_TIME * CAR_TT_SCALED + \\\n",
    "     B_COST * CAR_CO_SCALED"
   ]
  },
  {
   "cell_type": "markdown",
   "metadata": {},
   "source": [
    "**Associate utility functions with alternatives and associate availability of alternatives**\n",
    "\n",
    "Create a python dictionary with all utility functions\n",
    "\n",
    "Create a python dictionary with availability of choices"
   ]
  },
  {
   "cell_type": "code",
   "execution_count": null,
   "metadata": {},
   "outputs": [],
   "source": [
    "V = {1: V1,\n",
    "     2: V2,\n",
    "     3: V3}\n",
    "\n",
    "av = {1: TRAIN_AV_SP,\n",
    "      2: SM_AV,\n",
    "      3: CAR_AV_SP}"
   ]
  },
  {
   "cell_type": "markdown",
   "metadata": {},
   "source": [
    "**Define the model**"
   ]
  },
  {
   "cell_type": "code",
   "execution_count": null,
   "metadata": {},
   "outputs": [],
   "source": [
    "logprob = bioLogLogit(V,av,CHOICE)"
   ]
  },
  {
   "cell_type": "markdown",
   "metadata": {},
   "source": [
    "**Define the Biogeme object**\n",
    "\n",
    "* Give the database with all variables\n",
    "* Give the log likelihood model"
   ]
  },
  {
   "cell_type": "code",
   "execution_count": null,
   "metadata": {},
   "outputs": [],
   "source": [
    "biogeme  = bio.BIOGEME(database, logprob)\n",
    "\n",
    "biogeme.modelName = \"swissmetro_logit_basic\""
   ]
  },
  {
   "cell_type": "markdown",
   "metadata": {},
   "source": [
    "**Estimate the model**\n",
    "\n",
    "1. A `.html` can be generated with a report of the results and can be opened with a browser\n",
    "2. A `.pickle` file can also be generaetd with a snapshot with the results. This file can then be used in other scripts"
   ]
  },
  {
   "cell_type": "code",
   "execution_count": null,
   "metadata": {},
   "outputs": [],
   "source": [
    "biogeme.generateHtml = True\n",
    "biogeme.generatePickle = False\n",
    "\n",
    "results = biogeme.estimate()\n",
    "\n",
    "print(f\"HTML file:    {results.data.htmlFileName}\")\n",
    "print(f\"Pickle file:  {results.data.pickleFileName }\")"
   ]
  },
  {
   "cell_type": "markdown",
   "metadata": {},
   "source": [
    "**Print results**"
   ]
  },
  {
   "cell_type": "code",
   "execution_count": null,
   "metadata": {},
   "outputs": [],
   "source": [
    "betas = results.getBetaValues()\n",
    "for k,v in betas.items():\n",
    "    print(f\"{k:10}=\\t{v:.3g}\")"
   ]
  },
  {
   "cell_type": "markdown",
   "metadata": {},
   "source": [
    "**Get the variance-covariance matrix**"
   ]
  },
  {
   "cell_type": "code",
   "execution_count": null,
   "metadata": {},
   "outputs": [],
   "source": [
    "results.getRobustVarCovar()"
   ]
  },
  {
   "cell_type": "markdown",
   "metadata": {},
   "source": [
    "**Get the general statistics**"
   ]
  },
  {
   "cell_type": "code",
   "execution_count": null,
   "metadata": {},
   "outputs": [],
   "source": [
    "gs = results.getGeneralStatistics()\n",
    "\n",
    "for k,v in gs.items():\n",
    "    print(\"{}= {}\".format(k.ljust(45),v[0]))"
   ]
  },
  {
   "cell_type": "markdown",
   "metadata": {},
   "source": [
    "**Clean up output files**"
   ]
  },
  {
   "cell_type": "code",
   "execution_count": null,
   "metadata": {},
   "outputs": [],
   "source": [
    "import glob, os\n",
    "\n",
    "if not os.path.exists('results'):\n",
    "    os.makedirs('results')\n",
    "\n",
    "result_files = glob.glob(biogeme.modelName+'*')\n",
    "result_files = [x for x in result_files if x != biogeme.modelName+'.ipynb']\n",
    "if len(result_files) != 0:\n",
    "    result_dir = \"results\"\n",
    "    print('Moving the following files:')\n",
    "    for result_file in result_files:\n",
    "        print('\\t',result_file)\n",
    "        os.rename(result_file, os.path.join(result_dir, result_file))"
   ]
  },
  {
   "cell_type": "code",
   "execution_count": null,
   "metadata": {},
   "outputs": [],
   "source": []
  }
 ],
 "metadata": {
  "kernelspec": {
   "display_name": "Python 3",
   "language": "python",
   "name": "python3"
  },
  "language_info": {
   "codemirror_mode": {
    "name": "ipython",
    "version": 3
   },
   "file_extension": ".py",
   "mimetype": "text/x-python",
   "name": "python",
   "nbconvert_exporter": "python",
   "pygments_lexer": "ipython3",
   "version": "3.7.3"
  }
 },
 "nbformat": 4,
 "nbformat_minor": 2
}
